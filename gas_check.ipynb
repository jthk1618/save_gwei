{
 "cells": [
  {
   "cell_type": "markdown",
   "metadata": {},
   "source": [
    "# L1 Gassy\n",
    "\n",
    "Block heights count the number of preceeding blocks."
   ]
  },
  {
   "cell_type": "code",
   "execution_count": 1,
   "metadata": {},
   "outputs": [],
   "source": [
    "import requests\n",
    "import numpy as np\n",
    "import seaborn as sns"
   ]
  },
  {
   "cell_type": "code",
   "execution_count": 137,
   "metadata": {},
   "outputs": [
    {
     "name": "stdout",
     "output_type": "stream",
     "text": [
      "dict_keys(['block_id', 'block_height', 'block_signed_at', 'tx_offset', 'hash', 'successful', 'version', 'size', 'mining_cost', 'from_address', 'to_address', 'to_label', 'from_label', 'creates', 'value', 'payload_size', 'contract_input', 'gas_offered', 'gas_spent', 'gas_price', 'gas_quote', 'transfers', 'eth_quote_rate', 'value_quote'])\n"
     ]
    }
   ],
   "source": [
    "# --- Request\n",
    "\n",
    "url = \"https://api.covalenthq.com/v1/1/block/latest/\"\n",
    "auth = (\"ckey_400949948168421ebf17a073e5a\", \"\")\n",
    "r = requests.get(url, auth=auth)\n",
    "block = r.json()\n",
    "txs = block['transactions']\n",
    "print(txs[0].keys())"
   ]
  },
  {
   "cell_type": "code",
   "execution_count": 138,
   "metadata": {
    "scrolled": true
   },
   "outputs": [
    {
     "name": "stdout",
     "output_type": "stream",
     "text": [
      "\n",
      "    Gas offered:\t50000\n",
      "    Gas spent:\t\t21000\n",
      "    Gas price:\t\t165000000000\n",
      "    \n",
      "\n",
      "    Gas offered:\t207128\n",
      "    Gas spent:\t\t21000\n",
      "    Gas price:\t\t120000000000\n",
      "    \n"
     ]
    }
   ],
   "source": [
    "for tx in txs[:2]:\n",
    "    print_me = \"\"\"\n",
    "    Gas offered:\\t{}\n",
    "    Gas spent:\\t\\t{}\n",
    "    Gas price:\\t\\t{}\n",
    "    \"\"\"\n",
    "    print(print_me.format(tx[\"gas_offered\"], tx[\"gas_spent\"], tx[\"gas_price\"]))\n"
   ]
  },
  {
   "cell_type": "markdown",
   "metadata": {},
   "source": [
    "### Recall Gasprice, Gwei\n",
    "\n",
    "gasprice is the price at which the gas is offered. 21000 gas is required for a typical transfer and Gwei is the ETH price being offered for each unit of gas.\n",
    "\n",
    "E.g.\n",
    "\n",
    "A normal transfer requires 21000 gas. I offer the transaction for 5 Gwei for a full gas spending of 21000 * 5 = 105000 Gwei = 0.000105 ETH\n",
    "\n",
    "Some other person in a hurry offers for 10 Gwei for the same transaction which costs them 21000 * 10 = 210000 Gwei = 0.00021 ETH"
   ]
  },
  {
   "cell_type": "code",
   "execution_count": 139,
   "metadata": {},
   "outputs": [],
   "source": [
    "gas_prices = np.array([x[\"gas_price\"] for x in txs])/1e9 # In Gwei"
   ]
  },
  {
   "cell_type": "code",
   "execution_count": 141,
   "metadata": {},
   "outputs": [
    {
     "data": {
      "image/png": "[encoded data removed]",
      "text/plain": [
       "<Figure size 432x288 with 1 Axes>"
      ]
     },
     "metadata": {
      "needs_background": "light"
     },
     "output_type": "display_data"
    }
   ],
   "source": [
    "sns.scatterplot(x=range(len(gas_prices)), y=gas_prices);"
   ]
  },
  {
   "cell_type": "markdown",
   "metadata": {},
   "source": [
    "# L2 Gassy\n",
    "\n",
    "\n"
   ]
  }
 ],
 "metadata": {
  "kernelspec": {
   "display_name": "Python 3",
   "language": "python",
   "name": "python3"
  },
  "language_info": {
   "codemirror_mode": {
    "name": "ipython",
    "version": 3
   },
   "file_extension": ".py",
   "mimetype": "text/x-python",
   "name": "python",
   "nbconvert_exporter": "python",
   "pygments_lexer": "ipython3",
   "version": "3.8.5"
  }
 },
 "nbformat": 4,
 "nbformat_minor": 4
}
